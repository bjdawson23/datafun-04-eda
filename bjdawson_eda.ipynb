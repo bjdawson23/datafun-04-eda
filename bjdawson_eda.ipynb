{
 "cells": [
  {
   "cell_type": "markdown",
   "id": "646c5e38",
   "metadata": {},
   "source": [
    "# Branton Dawson: Exploratory Data Analysis Project\n",
    "\n",
    "    Author: Branton Dawson\n",
    "    Repository: datafun-04-eda\n"
   ]
  },
  {
   "cell_type": "code",
   "execution_count": 1,
   "id": "f5ae9d74",
   "metadata": {},
   "outputs": [
    {
     "name": "stdout",
     "output_type": "stream",
     "text": [
      "Starting out with Jupyter.\n"
     ]
    }
   ],
   "source": [
    "import pandas as pd\n",
    "print(\"Starting out with Jupyter.\")"
   ]
  },
  {
   "cell_type": "code",
   "execution_count": 2,
   "id": "6d64252c",
   "metadata": {},
   "outputs": [
    {
     "data": {
      "text/plain": [
       "36.0"
      ]
     },
     "execution_count": 2,
     "metadata": {},
     "output_type": "execute_result"
    }
   ],
   "source": [
    "8 * (12 - 3) / 2"
   ]
  }
 ],
 "metadata": {
  "kernelspec": {
   "display_name": ".venv",
   "language": "python",
   "name": "python3"
  },
  "language_info": {
   "codemirror_mode": {
    "name": "ipython",
    "version": 3
   },
   "file_extension": ".py",
   "mimetype": "text/x-python",
   "name": "python",
   "nbconvert_exporter": "python",
   "pygments_lexer": "ipython3",
   "version": "3.13.2"
  }
 },
 "nbformat": 4,
 "nbformat_minor": 5
}
